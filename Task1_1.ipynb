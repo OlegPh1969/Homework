{
  "nbformat": 4,
  "nbformat_minor": 0,
  "metadata": {
    "colab": {
      "provenance": []
    },
    "kernelspec": {
      "name": "python3",
      "display_name": "Python 3"
    },
    "language_info": {
      "name": "python"
    }
  },
  "cells": [
    {
      "cell_type": "code",
      "execution_count": 27,
      "metadata": {
        "colab": {
          "base_uri": "https://localhost:8080/"
        },
        "id": "00eeGigoWauD",
        "outputId": "da25c6e2-e588-4b24-d006-42e4f43a1360"
      },
      "outputs": [
        {
          "output_type": "stream",
          "name": "stdout",
          "text": [
            "Результат задачи с использованием явных индексов символов:\n",
            " Waste a Moment \n",
            " New Salvation \n",
            " Staying' Alive \n",
            " Start Me Up \n",
            "\n",
            "Результат задачи с использованием метода split():\n",
            " Waste a Moment\n",
            " New Salvation\n",
            " Staying' Alive\n",
            " Start Me Up\n"
          ]
        }
      ],
      "source": [
        "# Задача 1.1.\n",
        "\n",
        "# Есть строка с перечислением песен\n",
        "\n",
        "my_favorite_songs = 'Waste a Moment, Staying\\' Alive, A Sorta Fairytale, Start Me Up, New Salvation'\n",
        "\n",
        "# Выведите на консоль с помощью индексации строки, последовательно: первый трек, последний, второй, второй с конца\n",
        "# Нельзя переопределять my_favorite_songs и запятая не должна выводитьс\n",
        "\n",
        "splitted_favorite_songs = my_favorite_songs.split(',')\n",
        "\n",
        "print( \"Результат задачи с использованием явных индексов символов:\\n\",\n",
        "      my_favorite_songs[0:14], \"\\n\",\n",
        "      my_favorite_songs[-13:], \"\\n\",\n",
        "      my_favorite_songs[16:30], \"\\n\",\n",
        "      my_favorite_songs[-26:-15], \"\\n\",\n",
        ")\n",
        "\n",
        "print( \"Результат задачи с использованием метода split():\\n\", \n",
        "      splitted_favorite_songs[0].strip() + \"\\n\",\n",
        "      splitted_favorite_songs[-1].strip() + \"\\n\",\n",
        "      splitted_favorite_songs[1].strip() + \"\\n\",\n",
        "      splitted_favorite_songs[-2].strip() )\n"
      ]
    }
  ]
}